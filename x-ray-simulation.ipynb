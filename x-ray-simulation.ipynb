{
 "cells": [
  {
   "attachments": {},
   "cell_type": "markdown",
   "metadata": {},
   "source": [
    "# Monte Carlo simulation of X-ray imaging\n",
    "\n",
    "The two main interaction processes between photon and matter is the photoelectric effect and Compton scattering. The photoelectric effect is a process where an electron with energy E is absorbed by an atom. The process where a photon interacts with an outer electron of an atom, leading to a change in the photons energy and direction is known as Compton scattering. When taking these two effects into account, we assume that there is a probability p of a photon being absorbed or scattered when moving a small distance x to $x+\\Delta x$. (And a probability of 1-p of it moving through unhindered.)\n",
    "If we assume that the intensity of a photon beam is equal to $I(x)$, the above assumption would mean that the expected intensity of the beam at $x + \\Delta x$ is equal to \n",
    "\n",
    "$I(x+\\Delta x) = I(x)(1-p) + 0*p \\,\\,\\,\\,(1)$.\n",
    "\n",
    "The first part of this notebook will look at x-ray imaging in one direction. The space it moves through is discretized into N different sections, where each distance is given by $\\Delta x$. In this project the assumption that $p = \\mu \\Delta x$ will be made, where $\\mu$ is the so-called attenuation coefficient. The attenuation coefficient describes the extent at which the radiant flux of a beam reduces as it moves through a material.\n",
    "\n",
    "Rearranging the terms in (1), plugging in the definition of the probability p, and considering infitesimal steps ($\\Delta x \\rightarrow 0$), we get the differential equation\n",
    "\n",
    "$\\frac{dI(x)}{dx} = -\\mu I(x) \\,\\,\\,\\,(2)$.\n",
    "\n",
    "This equation has the analytical solution \n",
    "\n",
    "$I(x) = I_0 e^{-\\mu x} \\,\\,\\,\\, (3)$,\n",
    "\n",
    "where $I_0$ is the initial intensity of the beam. This analytical solution will be used to measure how good the numerical approximation is.\n",
    "\n",
    "For the later parts of the project, some data of attenuation coefficients will be used. These are structured in datafiles giving the attenuation coefficient of the different materials for different energies."
   ]
  },
  {
   "cell_type": "code",
   "execution_count": 1,
   "metadata": {},
   "outputs": [],
   "source": [
    "%matplotlib notebook\n",
    "# Importing necessary libraries\n",
    "import numpy as np # Numpy for handling arrays\n",
    "import matplotlib.pyplot as plt # Matplotlib to do the plotting\n",
    "from mpl_toolkits.mplot3d import Axes3D # For 3D plots\n",
    "from IPython.display import HTML, display # For tables\n",
    "import tabulate # Tables\n",
    "\n",
    "# Fixing some parameters for all of the figures\n",
    "plt.rcParams.update({'axes.grid': True, 'grid.linestyle' : \"--\", 'figure.figsize' : (9.5,6)})"
   ]
  },
  {
   "cell_type": "code",
   "execution_count": 2,
   "metadata": {},
   "outputs": [
    {
     "data": {
      "text/html": [
       "<style>\n",
       ".output_wrapper button.btn.btn-default, .output_wrapper .ui-dialog-titlebar {\n",
       "    display: none;\n",
       "} </style>\n"
      ],
      "text/plain": [
       "<IPython.core.display.HTML object>"
      ]
     },
     "metadata": {},
     "output_type": "display_data"
    }
   ],
   "source": [
    "%%html \n",
    "<style>\n",
    ".output_wrapper button.btn.btn-default, .output_wrapper .ui-dialog-titlebar {\n",
    "    display: none;\n",
    "} </style>"
   ]
  },
  {
   "attachments": {},
   "cell_type": "markdown",
   "metadata": {},
   "source": [
    "Above block is just to remove the interactive buttons that comes with the notebook backend to get cleaner figures."
   ]
  },
  {
   "attachments": {},
   "cell_type": "markdown",
   "metadata": {},
   "source": [
    "### Part 1\n",
    "\n",
    "In this part a one-dimensional beam of photons will be sent through a material with dampening coefficient, $\\mu$.\n",
    "The result from the Monte-Carlo method and the analytical solution will be compared.\n",
    "In the end the stability of the Monte-Carlo method will be looked into by comparing different number of photons and different steplengths $\\Delta x$. This part is mainly to check that the numerical solver corresponds with the analytical solution."
   ]
  },
  {
   "cell_type": "code",
   "execution_count": 9,
   "metadata": {},
   "outputs": [],
   "source": [
    "def simulate_photons(n_photons, n_steps, width, my):\n",
    "    \"\"\"\n",
    "    Approximates the intensity of a photon beam moving through a material evaluated at different steps.\n",
    "    The approximation is based on a Monte Carlo method using the fact that for each distance x to x + Delta x\n",
    "    there is a probability p that the photon either will scatter or be absorved. This probability is equal to\n",
    "    the length moved and the attenuation coefficient. A random number is sampled at each step and compared to this \n",
    "    probability to determine if the photon will keep on moving or not.\n",
    "\n",
    "        Parameters:\n",
    "            n_photons (int):        number of photons\n",
    "            n_steps (int):          number of discrete steps taken through the material\n",
    "            width (float):          the width of the material (cm)\n",
    "            my (1D float array):    the attenuation coefficient of the material at each step\n",
    "        \n",
    "        Output:\n",
    "            I (1D float array):     the intensity at each step relative to initial intensity\n",
    "\n",
    "        Raise:\n",
    "            ValueError if n_steps is not equal to length of my\n",
    "            ValueError if n_photons is smaller than 1\n",
    "            ValueError if width is negative\n",
    "    \"\"\"\n",
    "\n",
    "    if n_steps != len(my):\n",
    "        raise ValueError('The number of steps must be equal to the number of attenuation coefficients.')\n",
    "    if n_photons < 1:\n",
    "        raise ValueError('The number of photons must be positive.')\n",
    "    if width <= 0:\n",
    "        raise ValueError('The width must be positive.')\n",
    "    \n",
    "    \n",
    "    dx = width / n_steps\n",
    "    lengths = np.zeros(n_photons) # Each element i is the lenght (cm) photon i reached\n",
    "    p = my * dx # Pobabilities of being scattered/absorbed at the different steps           \n",
    "    r = np.random.rand(n_photons, n_steps) # Random numbers for comparing with p\n",
    "    \n",
    "    for i in range(n_photons):    \n",
    "        # Simulate each photon seperately      \n",
    "        length = width # If not scattered/absorbed this won't be overwritten\n",
    "        for j in range(n_steps):\n",
    "            # Going through each step in the material\n",
    "            if r[i, j] < p[j]:\n",
    "                # If true the photon was absorbed during step j\n",
    "                length = dx * j # The length the photon reached\n",
    "                break\n",
    "        lengths[i] = length # Storing the length photon i reached\n",
    "    \n",
    "    I = np.zeros(n_steps + 1) # Contains the relative intensity at each gridpoint (including start/end)\n",
    "\n",
    "    I[0] = 1 # First intensity equal to 1\n",
    "    for i in range(n_steps):\n",
    "        # Calculating the intensity after each step\n",
    "        nFotoner_i = np.sum(lengths == dx * i) # The number of photons absorbed in this step\n",
    "        I[i+1] = I[i] - nFotoner_i / n_photons # Removing the percentage of photons absorbed from intensity\n",
    "    \n",
    "    return I"
   ]
  },
  {
   "cell_type": "code",
   "execution_count": 10,
   "metadata": {},
   "outputs": [],
   "source": [
    "# Defining some parameters for the first part\n",
    "# Adding _1 to the parameters to keep them separated from the other parts\n",
    "'''\n",
    "- width: the width of the material (cm)\n",
    "- n_steps: the number of steps\n",
    "- x: the points along the x-axis\n",
    "- n_photons: number of photons\n",
    "- my: the attenuation coefficient of the material, cm^-1\n",
    "'''\n",
    "\n",
    "width_1 = 10\n",
    "n_steps_1 = 100\n",
    "x_1 = np.linspace(0, width_1, n_steps_1 + 1)\n",
    "n_photons_1 = 1000\n",
    "my1 = 0.1 * np.ones(n_steps_1)"
   ]
  },
  {
   "cell_type": "code",
   "execution_count": 11,
   "metadata": {},
   "outputs": [
    {
     "name": "stdout",
     "output_type": "stream",
     "text": [
      "[1.    0.992 0.981 0.972 0.963 0.952 0.938 0.93  0.923 0.91  0.895 0.892\n",
      " 0.887 0.88  0.872 0.868 0.862 0.854 0.839 0.832 0.82  0.811 0.806 0.797\n",
      " 0.79  0.783 0.774 0.77  0.766 0.755 0.751 0.745 0.735 0.731 0.725 0.72\n",
      " 0.715 0.707 0.698 0.689 0.683 0.678 0.668 0.659 0.652 0.643 0.635 0.626\n",
      " 0.618 0.614 0.605 0.598 0.587 0.58  0.575 0.568 0.565 0.563 0.561 0.555\n",
      " 0.552 0.546 0.541 0.538 0.529 0.525 0.516 0.512 0.509 0.503 0.497 0.49\n",
      " 0.486 0.479 0.474 0.466 0.462 0.457 0.448 0.443 0.44  0.435 0.431 0.424\n",
      " 0.42  0.416 0.412 0.409 0.405 0.403 0.4   0.395 0.393 0.39  0.388 0.384\n",
      " 0.376 0.371 0.367 0.364 0.361]\n"
     ]
    }
   ],
   "source": [
    "I1 = simulate_photons(n_photons_1, n_steps_1, width_1, my1) \n",
    "print(I1)"
   ]
  },
  {
   "attachments": {},
   "cell_type": "markdown",
   "metadata": {},
   "source": [
    "### Part 2\n",
    "\n",
    "In this part two different photon beams will be simulated. One will go through only tissue, and the other will first go through tissue, then through bone and in the end through tissue again. Their contrast will be compared at different energy levels."
   ]
  },
  {
   "cell_type": "code",
   "execution_count": null,
   "metadata": {},
   "outputs": [],
   "source": []
  },
  {
   "attachments": {},
   "cell_type": "markdown",
   "metadata": {},
   "source": [
    "### Part 3\n",
    "In this part photon beams will be sent through different 3d objects at different energies. 2d images will be created by sending the photon beams through the three different axise."
   ]
  },
  {
   "cell_type": "code",
   "execution_count": null,
   "metadata": {},
   "outputs": [],
   "source": []
  }
 ],
 "metadata": {
  "kernelspec": {
   "display_name": "software-comp",
   "language": "python",
   "name": "python3"
  },
  "language_info": {
   "codemirror_mode": {
    "name": "ipython",
    "version": 3
   },
   "file_extension": ".py",
   "mimetype": "text/x-python",
   "name": "python",
   "nbconvert_exporter": "python",
   "pygments_lexer": "ipython3",
   "version": "3.9.13"
  },
  "orig_nbformat": 4
 },
 "nbformat": 4,
 "nbformat_minor": 2
}
