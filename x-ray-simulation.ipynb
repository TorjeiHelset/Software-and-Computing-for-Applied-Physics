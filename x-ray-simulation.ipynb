{
 "cells": [
  {
   "attachments": {},
   "cell_type": "markdown",
   "metadata": {},
   "source": [
    "# Monte Carlo simulation of X-ray imaging\n",
    "\n",
    "The two main interaction processes between photon and matter is the photoelectric effect and Compton scattering. The photoelectric effect is a process where an electron with energy E is absorbed by an atom. The process where a photon interacts with an outer electron of an atom, leading to a change in the photons energy and direction is known as Compton scattering. When taking these two effects into account, we assume that there is a probability p of a photon being absorbed or scattered when moving a small distance x to $x+\\Delta x$. (And a probability of 1-p of it moving through unhindered.)\n",
    "If we assume that the intensity of a photon beam is equal to $I(x)$, the above assumption would mean that the expected intensity of the beam at $x + \\Delta x$ is equal to \n",
    "\n",
    "$I(x+\\Delta x) = I(x)(1-p) + 0*p \\,\\,\\,\\,(1)$.\n",
    "\n",
    "The first part of this notebook will look at x-ray imaging in one direction. The space it moves through is discretized into N different sections, where each distance is given by $\\Delta x$. In this project the assumption that $p = \\mu \\Delta x$ will be made, where $\\mu$ is the so-called attenuation coefficient. The attenuation coefficient describes the extent at which the radiant flux of a beam reduces as it moves through a material.\n",
    "\n",
    "Rearranging the terms in (1), plugging in the definition of the probability p, and considering infitesimal steps ($\\Delta x \\rightarrow 0$), we get the differential equation\n",
    "\n",
    "$\\frac{dI(x)}{dx} = -\\mu I(x) \\,\\,\\,\\,(2)$.\n",
    "\n",
    "This equation has the analytical solution \n",
    "\n",
    "$I(x) = I_0 e^{-\\mu x} \\,\\,\\,\\, (3)$,\n",
    "\n",
    "where $I_0$ is the initial intensity of the beam. This analytical solution will be used to measure how good the numerical approximation is.\n",
    "\n",
    "For the later parts of the project, some data of attenuation coefficients will be used. These are structured in datafiles giving the attenuation coefficient of the different materials for different energies."
   ]
  },
  {
   "cell_type": "code",
   "execution_count": null,
   "metadata": {},
   "outputs": [],
   "source": []
  },
  {
   "attachments": {},
   "cell_type": "markdown",
   "metadata": {},
   "source": [
    "### Part 1\n",
    "\n",
    "In this part a one-dimensional beam of photons will be sent through a material with dampening coefficient, $\\mu$.\n",
    "The result from the Monte-Carlo method and the analytical solution will be compared.\n",
    "In the end the stability of the Monte-Carlo method will be looked into by comparing different number of photons and different steplengths $\\Delta x$. This part is mainly to check that the numerical solver corresponds with the analytical solution."
   ]
  },
  {
   "cell_type": "code",
   "execution_count": null,
   "metadata": {},
   "outputs": [],
   "source": []
  },
  {
   "attachments": {},
   "cell_type": "markdown",
   "metadata": {},
   "source": [
    "### Part 2\n",
    "\n",
    "In this part two different photon beams will be simulated. One will go through only tissue, and the other will first go through tissue, then through bone and in the end through tissue again. Their contrast will be compared at different energy levels."
   ]
  },
  {
   "cell_type": "code",
   "execution_count": null,
   "metadata": {},
   "outputs": [],
   "source": []
  },
  {
   "attachments": {},
   "cell_type": "markdown",
   "metadata": {},
   "source": [
    "### Part 3\n",
    "In this part photon beams will be sent through different 3d objects at different energies. 2d images will be created by sending the photon beams through the three different axise."
   ]
  },
  {
   "cell_type": "code",
   "execution_count": null,
   "metadata": {},
   "outputs": [],
   "source": []
  }
 ],
 "metadata": {
  "language_info": {
   "name": "python"
  },
  "orig_nbformat": 4
 },
 "nbformat": 4,
 "nbformat_minor": 2
}
